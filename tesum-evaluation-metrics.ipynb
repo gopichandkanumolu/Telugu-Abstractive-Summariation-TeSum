{
 "cells": [
  {
   "cell_type": "code",
   "execution_count": 1,
   "id": "2d052aef",
   "metadata": {
    "execution": {
     "iopub.execute_input": "2024-04-27T12:57:56.317557Z",
     "iopub.status.busy": "2024-04-27T12:57:56.316777Z",
     "iopub.status.idle": "2024-04-27T12:58:19.745872Z",
     "shell.execute_reply": "2024-04-27T12:58:19.744287Z"
    },
    "papermill": {
     "duration": 23.440931,
     "end_time": "2024-04-27T12:58:19.748957",
     "exception": false,
     "start_time": "2024-04-27T12:57:56.308026",
     "status": "completed"
    },
    "tags": []
   },
   "outputs": [],
   "source": [
    "import pandas as pd\n",
    "import os\n",
    "from tqdm import tqdm\n",
    "!pip install absl-py nltk numpy six>=1.14 pythainlp pyonmttok jieba fugashi[unidic]"
   ]
  },
  {
   "cell_type": "code",
   "execution_count": 2,
   "id": "fe3c3e28",
   "metadata": {
    "execution": {
     "iopub.execute_input": "2024-04-27T12:58:19.763999Z",
     "iopub.status.busy": "2024-04-27T12:58:19.763233Z",
     "iopub.status.idle": "2024-04-27T12:58:19.769059Z",
     "shell.execute_reply": "2024-04-27T12:58:19.767979Z"
    },
    "papermill": {
     "duration": 0.016086,
     "end_time": "2024-04-27T12:58:19.771378",
     "exception": false,
     "start_time": "2024-04-27T12:58:19.755292",
     "status": "completed"
    },
    "tags": []
   },
   "outputs": [],
   "source": [
    "language='telugu'\n",
    "lang_code = \"te\"\n",
    "actual_fp='/kaggle/input/tesum-dataset/TeSum_test_data.csv'\n",
    "predictions_fp='/kaggle/input/tesum-checkpoint-5-epochs/model_checkpoints/generated_predictions.txt'"
   ]
  },
  {
   "cell_type": "code",
   "execution_count": 3,
   "id": "5ba9d944",
   "metadata": {
    "execution": {
     "iopub.execute_input": "2024-04-27T12:58:19.785160Z",
     "iopub.status.busy": "2024-04-27T12:58:19.784761Z",
     "iopub.status.idle": "2024-04-27T12:58:20.073742Z",
     "shell.execute_reply": "2024-04-27T12:58:20.072544Z"
    },
    "papermill": {
     "duration": 0.299403,
     "end_time": "2024-04-27T12:58:20.076720",
     "exception": false,
     "start_time": "2024-04-27T12:58:19.777317",
     "status": "completed"
    },
    "tags": []
   },
   "outputs": [
    {
     "data": {
      "text/html": [
       "<div>\n",
       "<style scoped>\n",
       "    .dataframe tbody tr th:only-of-type {\n",
       "        vertical-align: middle;\n",
       "    }\n",
       "\n",
       "    .dataframe tbody tr th {\n",
       "        vertical-align: top;\n",
       "    }\n",
       "\n",
       "    .dataframe thead th {\n",
       "        text-align: right;\n",
       "    }\n",
       "</style>\n",
       "<table border=\"1\" class=\"dataframe\">\n",
       "  <thead>\n",
       "    <tr style=\"text-align: right;\">\n",
       "      <th></th>\n",
       "      <th>id</th>\n",
       "      <th>url</th>\n",
       "      <th>title</th>\n",
       "      <th>cleaned_text</th>\n",
       "      <th>summary</th>\n",
       "      <th>article_sentence_count</th>\n",
       "      <th>article_token_count</th>\n",
       "      <th>summary_token_count</th>\n",
       "      <th>title_token_count</th>\n",
       "      <th>compression</th>\n",
       "      <th>abstractivity</th>\n",
       "    </tr>\n",
       "  </thead>\n",
       "  <tbody>\n",
       "    <tr>\n",
       "      <th>0</th>\n",
       "      <td>18081</td>\n",
       "      <td>https://www.prajasakti.com/WEBSECTION/National...</td>\n",
       "      <td>పోర్చుగీసు ప్రధానితో మోడీ భేటీ.\\n</td>\n",
       "      <td>భారత ప్రధాన మంత్రి నరేంద్ర మోడీ కొద్ది సేపటి క...</td>\n",
       "      <td>భారత ప్రధాన మంత్రి నరేంద్ర మోడీ నేడు పోర్చుగీస...</td>\n",
       "      <td>4</td>\n",
       "      <td>36</td>\n",
       "      <td>18</td>\n",
       "      <td>6</td>\n",
       "      <td>50.0</td>\n",
       "      <td>16.67</td>\n",
       "    </tr>\n",
       "  </tbody>\n",
       "</table>\n",
       "</div>"
      ],
      "text/plain": [
       "      id                                                url  \\\n",
       "0  18081  https://www.prajasakti.com/WEBSECTION/National...   \n",
       "\n",
       "                               title  \\\n",
       "0  పోర్చుగీసు ప్రధానితో మోడీ భేటీ.\\n   \n",
       "\n",
       "                                        cleaned_text  \\\n",
       "0  భారత ప్రధాన మంత్రి నరేంద్ర మోడీ కొద్ది సేపటి క...   \n",
       "\n",
       "                                             summary  article_sentence_count  \\\n",
       "0  భారత ప్రధాన మంత్రి నరేంద్ర మోడీ నేడు పోర్చుగీస...                       4   \n",
       "\n",
       "   article_token_count  summary_token_count  title_token_count  compression  \\\n",
       "0                   36                   18                  6         50.0   \n",
       "\n",
       "   abstractivity  \n",
       "0          16.67  "
      ]
     },
     "execution_count": 3,
     "metadata": {},
     "output_type": "execute_result"
    }
   ],
   "source": [
    "df=pd.read_csv(actual_fp)\n",
    "df.head(1)"
   ]
  },
  {
   "cell_type": "code",
   "execution_count": 4,
   "id": "5595e0b6",
   "metadata": {
    "execution": {
     "iopub.execute_input": "2024-04-27T12:58:20.091489Z",
     "iopub.status.busy": "2024-04-27T12:58:20.091096Z",
     "iopub.status.idle": "2024-04-27T12:58:20.148001Z",
     "shell.execute_reply": "2024-04-27T12:58:20.146667Z"
    },
    "papermill": {
     "duration": 0.067384,
     "end_time": "2024-04-27T12:58:20.150549",
     "exception": false,
     "start_time": "2024-04-27T12:58:20.083165",
     "status": "completed"
    },
    "tags": []
   },
   "outputs": [
    {
     "name": "stdout",
     "output_type": "stream",
     "text": [
      "Sizes Matched\n"
     ]
    }
   ],
   "source": [
    "actual_labels=list(df['summary'].values)\n",
    "\n",
    "with open(predictions_fp) as fp:\n",
    "    predicted_labels=fp.readlines()\n",
    "    predicted_labels=[i.strip() for i in predicted_labels]\n",
    "\n",
    "if len(actual_labels)==len(predicted_labels):\n",
    "    print('Sizes Matched')\n",
    "else:\n",
    "    print('WARNING: Actual and Predicted Sizes Not Matched')"
   ]
  },
  {
   "cell_type": "code",
   "execution_count": 5,
   "id": "a5da983a",
   "metadata": {
    "execution": {
     "iopub.execute_input": "2024-04-27T12:58:20.165603Z",
     "iopub.status.busy": "2024-04-27T12:58:20.164676Z",
     "iopub.status.idle": "2024-04-27T12:58:20.171752Z",
     "shell.execute_reply": "2024-04-27T12:58:20.170703Z"
    },
    "papermill": {
     "duration": 0.017093,
     "end_time": "2024-04-27T12:58:20.174141",
     "exception": false,
     "start_time": "2024-04-27T12:58:20.157048",
     "status": "completed"
    },
    "tags": []
   },
   "outputs": [
    {
     "data": {
      "text/plain": [
       "(2017, 2017)"
      ]
     },
     "execution_count": 5,
     "metadata": {},
     "output_type": "execute_result"
    }
   ],
   "source": [
    "len(df), len(predicted_labels)"
   ]
  },
  {
   "cell_type": "markdown",
   "id": "4e139f50",
   "metadata": {
    "papermill": {
     "duration": 0.006296,
     "end_time": "2024-04-27T12:58:20.186988",
     "exception": false,
     "start_time": "2024-04-27T12:58:20.180692",
     "status": "completed"
    },
    "tags": []
   },
   "source": [
    "# Multilingual ROUGE"
   ]
  },
  {
   "cell_type": "code",
   "execution_count": 6,
   "id": "c4f71f2f",
   "metadata": {
    "execution": {
     "iopub.execute_input": "2024-04-27T12:58:20.202194Z",
     "iopub.status.busy": "2024-04-27T12:58:20.201431Z",
     "iopub.status.idle": "2024-04-27T12:58:22.411705Z",
     "shell.execute_reply": "2024-04-27T12:58:22.409995Z"
    },
    "papermill": {
     "duration": 2.221808,
     "end_time": "2024-04-27T12:58:22.415241",
     "exception": false,
     "start_time": "2024-04-27T12:58:20.193433",
     "status": "completed"
    },
    "tags": []
   },
   "outputs": [],
   "source": [
    "os.chdir('/kaggle/input/multi-lingual-rouge-score/multilingual rouge')\n",
    "from rouge_score import rouge_scorer\n",
    "os.chdir('/kaggle/working')"
   ]
  },
  {
   "cell_type": "code",
   "execution_count": 7,
   "id": "a96e3357",
   "metadata": {
    "execution": {
     "iopub.execute_input": "2024-04-27T12:58:22.433544Z",
     "iopub.status.busy": "2024-04-27T12:58:22.432693Z",
     "iopub.status.idle": "2024-04-27T12:58:22.441548Z",
     "shell.execute_reply": "2024-04-27T12:58:22.440062Z"
    },
    "papermill": {
     "duration": 0.022717,
     "end_time": "2024-04-27T12:58:22.445145",
     "exception": false,
     "start_time": "2024-04-27T12:58:22.422428",
     "status": "completed"
    },
    "tags": []
   },
   "outputs": [],
   "source": [
    "scorer = rouge_scorer.RougeScorer(['rouge1', 'rouge2', 'rougeL'], use_stemmer=False, lang=language)"
   ]
  },
  {
   "cell_type": "code",
   "execution_count": 8,
   "id": "f9eab126",
   "metadata": {
    "execution": {
     "iopub.execute_input": "2024-04-27T12:58:22.465207Z",
     "iopub.status.busy": "2024-04-27T12:58:22.464079Z",
     "iopub.status.idle": "2024-04-27T12:58:22.472919Z",
     "shell.execute_reply": "2024-04-27T12:58:22.471605Z"
    },
    "papermill": {
     "duration": 0.022266,
     "end_time": "2024-04-27T12:58:22.475540",
     "exception": false,
     "start_time": "2024-04-27T12:58:22.453274",
     "status": "completed"
    },
    "tags": []
   },
   "outputs": [],
   "source": [
    "def return_rouge_score(ref,hyp):\n",
    "    scores = scorer.score(ref, hyp) # ref and hyp must be in string format only\n",
    "    r1_f=scores['rouge1'][2] # index 2 corresponds to f-1 score, 0-precsion,1-recall\n",
    "    r2_f=scores['rouge2'][2]\n",
    "    rL_f=scores['rougeL'][2]\n",
    "    \n",
    "    return r1_f,r2_f,rL_f"
   ]
  },
  {
   "cell_type": "code",
   "execution_count": 9,
   "id": "0effd96d",
   "metadata": {
    "execution": {
     "iopub.execute_input": "2024-04-27T12:58:22.491758Z",
     "iopub.status.busy": "2024-04-27T12:58:22.490748Z",
     "iopub.status.idle": "2024-04-27T12:58:22.495579Z",
     "shell.execute_reply": "2024-04-27T12:58:22.494710Z"
    },
    "papermill": {
     "duration": 0.015347,
     "end_time": "2024-04-27T12:58:22.497932",
     "exception": false,
     "start_time": "2024-04-27T12:58:22.482585",
     "status": "completed"
    },
    "tags": []
   },
   "outputs": [],
   "source": [
    "r1=[]\n",
    "r2=[]\n",
    "rL=[]\n",
    "\n",
    "references=actual_labels\n",
    "hypothesis=predicted_labels"
   ]
  },
  {
   "cell_type": "code",
   "execution_count": 10,
   "id": "1055a52c",
   "metadata": {
    "execution": {
     "iopub.execute_input": "2024-04-27T12:58:22.512640Z",
     "iopub.status.busy": "2024-04-27T12:58:22.512264Z",
     "iopub.status.idle": "2024-04-27T12:58:33.871471Z",
     "shell.execute_reply": "2024-04-27T12:58:33.870452Z"
    },
    "papermill": {
     "duration": 11.369706,
     "end_time": "2024-04-27T12:58:33.874162",
     "exception": false,
     "start_time": "2024-04-27T12:58:22.504456",
     "status": "completed"
    },
    "tags": []
   },
   "outputs": [],
   "source": [
    "for i in range(len(actual_labels)):\n",
    "#     r1_f,r2_f,rL_f=return_rouge_score(get_encoded(references[i]),get_encoded(hypothesis[i]))\n",
    "    r1_f,r2_f,rL_f=return_rouge_score(str(references[i]),str(hypothesis[i]))\n",
    "    \n",
    "    r1.append(r1_f)\n",
    "    r2.append(r2_f)\n",
    "    rL.append(rL_f)"
   ]
  },
  {
   "cell_type": "code",
   "execution_count": 11,
   "id": "f64d0c4a",
   "metadata": {
    "execution": {
     "iopub.execute_input": "2024-04-27T12:58:33.890643Z",
     "iopub.status.busy": "2024-04-27T12:58:33.889606Z",
     "iopub.status.idle": "2024-04-27T12:58:33.898523Z",
     "shell.execute_reply": "2024-04-27T12:58:33.897331Z"
    },
    "papermill": {
     "duration": 0.019936,
     "end_time": "2024-04-27T12:58:33.900956",
     "exception": false,
     "start_time": "2024-04-27T12:58:33.881020",
     "status": "completed"
    },
    "tags": []
   },
   "outputs": [],
   "source": [
    "df['Prediction']=predicted_labels\n",
    "df['ROUGE-1']=r1\n",
    "df['ROUGE-2']=r2\n",
    "df['ROUGE-L']=rL"
   ]
  },
  {
   "cell_type": "code",
   "execution_count": 12,
   "id": "934132e1",
   "metadata": {
    "execution": {
     "iopub.execute_input": "2024-04-27T12:58:33.916960Z",
     "iopub.status.busy": "2024-04-27T12:58:33.916540Z",
     "iopub.status.idle": "2024-04-27T12:58:33.931676Z",
     "shell.execute_reply": "2024-04-27T12:58:33.930551Z"
    },
    "papermill": {
     "duration": 0.026914,
     "end_time": "2024-04-27T12:58:33.934403",
     "exception": false,
     "start_time": "2024-04-27T12:58:33.907489",
     "status": "completed"
    },
    "tags": []
   },
   "outputs": [],
   "source": [
    "df.sort_values(by=['ROUGE-L'],inplace=True,ascending=False)"
   ]
  },
  {
   "cell_type": "code",
   "execution_count": 13,
   "id": "53b2a3b8",
   "metadata": {
    "execution": {
     "iopub.execute_input": "2024-04-27T12:58:33.949798Z",
     "iopub.status.busy": "2024-04-27T12:58:33.949076Z",
     "iopub.status.idle": "2024-04-27T12:58:33.966360Z",
     "shell.execute_reply": "2024-04-27T12:58:33.965448Z"
    },
    "papermill": {
     "duration": 0.027631,
     "end_time": "2024-04-27T12:58:33.968670",
     "exception": false,
     "start_time": "2024-04-27T12:58:33.941039",
     "status": "completed"
    },
    "tags": []
   },
   "outputs": [
    {
     "data": {
      "text/html": [
       "<div>\n",
       "<style scoped>\n",
       "    .dataframe tbody tr th:only-of-type {\n",
       "        vertical-align: middle;\n",
       "    }\n",
       "\n",
       "    .dataframe tbody tr th {\n",
       "        vertical-align: top;\n",
       "    }\n",
       "\n",
       "    .dataframe thead th {\n",
       "        text-align: right;\n",
       "    }\n",
       "</style>\n",
       "<table border=\"1\" class=\"dataframe\">\n",
       "  <thead>\n",
       "    <tr style=\"text-align: right;\">\n",
       "      <th></th>\n",
       "      <th>id</th>\n",
       "      <th>url</th>\n",
       "      <th>title</th>\n",
       "      <th>cleaned_text</th>\n",
       "      <th>summary</th>\n",
       "      <th>article_sentence_count</th>\n",
       "      <th>article_token_count</th>\n",
       "      <th>summary_token_count</th>\n",
       "      <th>title_token_count</th>\n",
       "      <th>compression</th>\n",
       "      <th>abstractivity</th>\n",
       "      <th>Prediction</th>\n",
       "      <th>ROUGE-1</th>\n",
       "      <th>ROUGE-2</th>\n",
       "      <th>ROUGE-L</th>\n",
       "    </tr>\n",
       "  </thead>\n",
       "  <tbody>\n",
       "    <tr>\n",
       "      <th>11</th>\n",
       "      <td>37579</td>\n",
       "      <td>https://www.prajasakti.com/WEBSECTION/Internat...</td>\n",
       "      <td>నూతన అదనపు భవనాల నిర్మాణ ప్రక్రియ.</td>\n",
       "      <td>విజయనగరం జిల్లా బొబ్బిలి పట్టణంలోని మున్సిఫ్ మ...</td>\n",
       "      <td>విజయనగరం జిల్లా బొబ్బిలి పట్టణంలోని మున్సిఫ్ మ...</td>\n",
       "      <td>4</td>\n",
       "      <td>95</td>\n",
       "      <td>38</td>\n",
       "      <td>6</td>\n",
       "      <td>60.0</td>\n",
       "      <td>10.53</td>\n",
       "      <td>విజయనగరం జిల్లా బొబ్బిలి పట్టణంలోని మున్సిఫ్ మ...</td>\n",
       "      <td>0.84507</td>\n",
       "      <td>0.724638</td>\n",
       "      <td>0.84507</td>\n",
       "    </tr>\n",
       "  </tbody>\n",
       "</table>\n",
       "</div>"
      ],
      "text/plain": [
       "       id                                                url  \\\n",
       "11  37579  https://www.prajasakti.com/WEBSECTION/Internat...   \n",
       "\n",
       "                                 title  \\\n",
       "11  నూతన అదనపు భవనాల నిర్మాణ ప్రక్రియ.   \n",
       "\n",
       "                                         cleaned_text  \\\n",
       "11  విజయనగరం జిల్లా బొబ్బిలి పట్టణంలోని మున్సిఫ్ మ...   \n",
       "\n",
       "                                              summary  article_sentence_count  \\\n",
       "11  విజయనగరం జిల్లా బొబ్బిలి పట్టణంలోని మున్సిఫ్ మ...                       4   \n",
       "\n",
       "    article_token_count  summary_token_count  title_token_count  compression  \\\n",
       "11                   95                   38                  6         60.0   \n",
       "\n",
       "    abstractivity                                         Prediction  ROUGE-1  \\\n",
       "11          10.53  విజయనగరం జిల్లా బొబ్బిలి పట్టణంలోని మున్సిఫ్ మ...  0.84507   \n",
       "\n",
       "     ROUGE-2  ROUGE-L  \n",
       "11  0.724638  0.84507  "
      ]
     },
     "execution_count": 13,
     "metadata": {},
     "output_type": "execute_result"
    }
   ],
   "source": [
    "df.head(1)"
   ]
  },
  {
   "cell_type": "code",
   "execution_count": 14,
   "id": "acfeeeb5",
   "metadata": {
    "execution": {
     "iopub.execute_input": "2024-04-27T12:58:33.984682Z",
     "iopub.status.busy": "2024-04-27T12:58:33.983693Z",
     "iopub.status.idle": "2024-04-27T12:58:34.010650Z",
     "shell.execute_reply": "2024-04-27T12:58:34.009383Z"
    },
    "papermill": {
     "duration": 0.037763,
     "end_time": "2024-04-27T12:58:34.013307",
     "exception": false,
     "start_time": "2024-04-27T12:58:33.975544",
     "status": "completed"
    },
    "tags": []
   },
   "outputs": [
    {
     "data": {
      "text/html": [
       "<div>\n",
       "<style scoped>\n",
       "    .dataframe tbody tr th:only-of-type {\n",
       "        vertical-align: middle;\n",
       "    }\n",
       "\n",
       "    .dataframe tbody tr th {\n",
       "        vertical-align: top;\n",
       "    }\n",
       "\n",
       "    .dataframe thead th {\n",
       "        text-align: right;\n",
       "    }\n",
       "</style>\n",
       "<table border=\"1\" class=\"dataframe\">\n",
       "  <thead>\n",
       "    <tr style=\"text-align: right;\">\n",
       "      <th></th>\n",
       "      <th>ROUGE-1</th>\n",
       "      <th>ROUGE-2</th>\n",
       "      <th>ROUGE-L</th>\n",
       "    </tr>\n",
       "  </thead>\n",
       "  <tbody>\n",
       "    <tr>\n",
       "      <th>count</th>\n",
       "      <td>2017.000000</td>\n",
       "      <td>2017.000000</td>\n",
       "      <td>2017.000000</td>\n",
       "    </tr>\n",
       "    <tr>\n",
       "      <th>mean</th>\n",
       "      <td>0.387859</td>\n",
       "      <td>0.224620</td>\n",
       "      <td>0.321154</td>\n",
       "    </tr>\n",
       "    <tr>\n",
       "      <th>std</th>\n",
       "      <td>0.129061</td>\n",
       "      <td>0.120668</td>\n",
       "      <td>0.121375</td>\n",
       "    </tr>\n",
       "    <tr>\n",
       "      <th>min</th>\n",
       "      <td>0.000000</td>\n",
       "      <td>0.000000</td>\n",
       "      <td>0.000000</td>\n",
       "    </tr>\n",
       "    <tr>\n",
       "      <th>25%</th>\n",
       "      <td>0.295652</td>\n",
       "      <td>0.132231</td>\n",
       "      <td>0.231579</td>\n",
       "    </tr>\n",
       "    <tr>\n",
       "      <th>50%</th>\n",
       "      <td>0.387097</td>\n",
       "      <td>0.215385</td>\n",
       "      <td>0.315789</td>\n",
       "    </tr>\n",
       "    <tr>\n",
       "      <th>75%</th>\n",
       "      <td>0.480769</td>\n",
       "      <td>0.304000</td>\n",
       "      <td>0.400000</td>\n",
       "    </tr>\n",
       "    <tr>\n",
       "      <th>max</th>\n",
       "      <td>0.845070</td>\n",
       "      <td>0.731707</td>\n",
       "      <td>0.845070</td>\n",
       "    </tr>\n",
       "  </tbody>\n",
       "</table>\n",
       "</div>"
      ],
      "text/plain": [
       "           ROUGE-1      ROUGE-2      ROUGE-L\n",
       "count  2017.000000  2017.000000  2017.000000\n",
       "mean      0.387859     0.224620     0.321154\n",
       "std       0.129061     0.120668     0.121375\n",
       "min       0.000000     0.000000     0.000000\n",
       "25%       0.295652     0.132231     0.231579\n",
       "50%       0.387097     0.215385     0.315789\n",
       "75%       0.480769     0.304000     0.400000\n",
       "max       0.845070     0.731707     0.845070"
      ]
     },
     "execution_count": 14,
     "metadata": {},
     "output_type": "execute_result"
    }
   ],
   "source": [
    "df[['ROUGE-1','ROUGE-2','ROUGE-L']].describe()"
   ]
  },
  {
   "cell_type": "code",
   "execution_count": null,
   "id": "db02fda3",
   "metadata": {
    "papermill": {
     "duration": 0.006855,
     "end_time": "2024-04-27T12:58:34.027547",
     "exception": false,
     "start_time": "2024-04-27T12:58:34.020692",
     "status": "completed"
    },
    "tags": []
   },
   "outputs": [],
   "source": []
  }
 ],
 "metadata": {
  "kaggle": {
   "accelerator": "none",
   "dataSources": [
    {
     "datasetId": 4884901,
     "sourceId": 8236278,
     "sourceType": "datasetVersion"
    },
    {
     "datasetId": 4887230,
     "sourceId": 8242178,
     "sourceType": "datasetVersion"
    },
    {
     "datasetId": 4889381,
     "sourceId": 8242183,
     "sourceType": "datasetVersion"
    },
    {
     "datasetId": 2862827,
     "sourceId": 4936855,
     "sourceType": "datasetVersion"
    }
   ],
   "dockerImageVersionId": 30698,
   "isGpuEnabled": false,
   "isInternetEnabled": true,
   "language": "python",
   "sourceType": "notebook"
  },
  "kernelspec": {
   "display_name": "Python 3",
   "language": "python",
   "name": "python3"
  },
  "language_info": {
   "codemirror_mode": {
    "name": "ipython",
    "version": 3
   },
   "file_extension": ".py",
   "mimetype": "text/x-python",
   "name": "python",
   "nbconvert_exporter": "python",
   "pygments_lexer": "ipython3",
   "version": "3.10.13"
  },
  "papermill": {
   "default_parameters": {},
   "duration": 41.598388,
   "end_time": "2024-04-27T12:58:34.756571",
   "environment_variables": {},
   "exception": null,
   "input_path": "__notebook__.ipynb",
   "output_path": "__notebook__.ipynb",
   "parameters": {},
   "start_time": "2024-04-27T12:57:53.158183",
   "version": "2.4.0"
  }
 },
 "nbformat": 4,
 "nbformat_minor": 5
}
