{
 "cells": [
  {
   "cell_type": "code",
   "execution_count": null,
   "metadata": {
    "_cell_guid": "b1076dfc-b9ad-4769-8c92-a6c4dae69d19",
    "_uuid": "8f2839f25d086af736a60e9eeb907d3b93b6e0e5",
    "execution": {
     "iopub.execute_input": "2024-04-26T17:40:29.194664Z",
     "iopub.status.busy": "2024-04-26T17:40:29.193841Z",
     "iopub.status.idle": "2024-04-26T17:41:19.426345Z",
     "shell.execute_reply": "2024-04-26T17:41:19.425141Z",
     "shell.execute_reply.started": "2024-04-26T17:40:29.194629Z"
    }
   },
   "outputs": [],
   "source": [
    "!pip install git+https://github.com/huggingface/transformers --q"
   ]
  },
  {
   "cell_type": "code",
   "execution_count": null,
   "metadata": {
    "execution": {
     "iopub.execute_input": "2024-04-26T17:41:19.429158Z",
     "iopub.status.busy": "2024-04-26T17:41:19.428775Z",
     "iopub.status.idle": "2024-04-26T17:41:47.364991Z",
     "shell.execute_reply": "2024-04-26T17:41:47.363867Z",
     "shell.execute_reply.started": "2024-04-26T17:41:19.429121Z"
    }
   },
   "outputs": [],
   "source": [
    "!pip install -r \"/kaggle/input/huggingfacetransformers/transformers/examples/pytorch/summarization/requirements.txt\" --q"
   ]
  },
  {
   "cell_type": "code",
   "execution_count": null,
   "metadata": {
    "execution": {
     "iopub.execute_input": "2024-04-26T17:41:47.366692Z",
     "iopub.status.busy": "2024-04-26T17:41:47.366395Z",
     "iopub.status.idle": "2024-04-26T17:41:47.371420Z",
     "shell.execute_reply": "2024-04-26T17:41:47.370516Z",
     "shell.execute_reply.started": "2024-04-26T17:41:47.366664Z"
    }
   },
   "outputs": [],
   "source": [
    "import os\n",
    "os.environ[\"WANDB_DISABLED\"] = \"true\""
   ]
  },
  {
   "cell_type": "markdown",
   "metadata": {},
   "source": [
    "## Data"
   ]
  },
  {
   "cell_type": "code",
   "execution_count": null,
   "metadata": {
    "execution": {
     "iopub.execute_input": "2024-04-26T17:41:47.373770Z",
     "iopub.status.busy": "2024-04-26T17:41:47.373486Z",
     "iopub.status.idle": "2024-04-26T17:41:49.085418Z",
     "shell.execute_reply": "2024-04-26T17:41:49.084476Z",
     "shell.execute_reply.started": "2024-04-26T17:41:47.373747Z"
    }
   },
   "outputs": [],
   "source": [
    "import pandas as pd\n",
    "train_df=pd.read_csv('/kaggle/input/tesum-dataset/TeSum_train_data.csv')\n",
    "train_df.head(1)"
   ]
  },
  {
   "cell_type": "markdown",
   "metadata": {},
   "source": [
    "## Fine-tuning"
   ]
  },
  {
   "cell_type": "code",
   "execution_count": null,
   "metadata": {
    "execution": {
     "iopub.execute_input": "2024-04-26T17:49:26.029446Z",
     "iopub.status.busy": "2024-04-26T17:49:26.028517Z",
     "iopub.status.idle": "2024-04-26T17:49:26.034450Z",
     "shell.execute_reply": "2024-04-26T17:49:26.033432Z",
     "shell.execute_reply.started": "2024-04-26T17:49:26.029409Z"
    }
   },
   "outputs": [],
   "source": [
    "!python '/kaggle/input/huggingfacetransformers/transformers/examples/pytorch/summarization/run_summarization.py' \\\n",
    "    --model_name_or_path  '/kaggle/input/tesum-checkpoint-5-epochs/model_checkpoints/checkpoint-20370' \\\n",
    "    --do_train True\\\n",
    "    --do_eval True\\\n",
    "    --do_predict True\\\n",
    "    --train_file '/kaggle/input/tesum-dataset/TeSum_train_data.csv' \\\n",
    "    --validation_file '/kaggle/input/tesum-dataset/TeSum_dev_data.csv' \\\n",
    "    --test_file  '/kaggle/input/tesum-dataset/TeSum_test_data.csv' \\\n",
    "    --num_train_epochs 5 \\\n",
    "    --logging_strategy \"epoch\" \\\n",
    "    --save_strategy \"epoch\" \\\n",
    "    --evaluation_strategy \"epoch\" \\\n",
    "    --source_prefix \"summarize: \" \\\n",
    "    --text_column \"cleaned_text\" \\\n",
    "    --summary_column \"summary\" \\\n",
    "    --save_total_limit 1 \\\n",
    "    --load_best_model_at_end True \\\n",
    "    --save_safetensors False \\\n",
    "    --output_dir \"./model_checkpoints\" \\\n",
    "    --overwrite_output_dir True\\\n",
    "    --per_device_train_batch_size=4 \\\n",
    "    --per_device_eval_batch_size=4 \\\n",
    "    --max_source_length 512 \\\n",
    "    --max_target_length 256 \\\n",
    "    --val_max_target_length 256 \\\n",
    "    --num_beams 4 \\\n",
    "    --predict_with_generate | tee logs.txt"
   ]
  },
  {
   "cell_type": "code",
   "execution_count": null,
   "metadata": {
    "execution": {
     "iopub.execute_input": "2024-04-26T12:34:00.997225Z",
     "iopub.status.busy": "2024-04-26T12:34:00.996385Z",
     "iopub.status.idle": "2024-04-26T12:34:01.001199Z",
     "shell.execute_reply": "2024-04-26T12:34:01.000166Z",
     "shell.execute_reply.started": "2024-04-26T12:34:00.997189Z"
    }
   },
   "outputs": [],
   "source": [
    "#     --max_train_samples 10 \\\n",
    "#     --max_eval_samples 10 \\\n",
    "#     --max_predict_samples 10 \\"
   ]
  },
  {
   "cell_type": "markdown",
   "metadata": {},
   "source": [
    "## Testing"
   ]
  },
  {
   "cell_type": "code",
   "execution_count": 2,
   "metadata": {
    "execution": {
     "iopub.execute_input": "2024-12-26T16:13:12.369145Z",
     "iopub.status.busy": "2024-12-26T16:13:12.368831Z",
     "iopub.status.idle": "2024-12-26T16:13:24.687627Z",
     "shell.execute_reply": "2024-12-26T16:13:24.686910Z",
     "shell.execute_reply.started": "2024-12-26T16:13:12.369122Z"
    }
   },
   "outputs": [
    {
     "name": "stderr",
     "output_type": "stream",
     "text": [
      "/opt/conda/lib/python3.10/site-packages/torch/_utils.py:831: UserWarning: TypedStorage is deprecated. It will be removed in the future and UntypedStorage will be the only storage class. This should only matter to you if you are using storages directly.  To access UntypedStorage directly, use tensor.untyped_storage() instead of tensor.storage()\n",
      "  return self.fget.__get__(instance, owner)()\n"
     ]
    }
   ],
   "source": [
    "from transformers import MT5ForConditionalGeneration, MT5Tokenizer\n",
    "\n",
    "# Load the trained model and tokenizer\n",
    "model_path = \"/kaggle/input/tesum-checkpoint-5-epochs/model_checkpoints/checkpoint-20370/\"\n",
    "tokenizer = MT5Tokenizer.from_pretrained(model_path)\n",
    "model = MT5ForConditionalGeneration.from_pretrained(model_path)\n",
    "\n",
    "# Define a function for summarization\n",
    "def generate_summary(article_text): #max_length=150\n",
    "    inputs = tokenizer.encode(\"summarize: \" + article_text, return_tensors=\"pt\", max_length=512, truncation=True)\n",
    "    summary_ids = model.generate(inputs, max_length=max_length, num_beams=4, early_stopping=True)\n",
    "    summary = tokenizer.decode(summary_ids[0], skip_special_tokens=True)\n",
    "    return summary"
   ]
  },
  {
   "cell_type": "code",
   "execution_count": 7,
   "metadata": {
    "execution": {
     "iopub.execute_input": "2024-12-26T16:15:48.468666Z",
     "iopub.status.busy": "2024-12-26T16:15:48.467997Z",
     "iopub.status.idle": "2024-12-26T16:15:48.472574Z",
     "shell.execute_reply": "2024-12-26T16:15:48.471562Z",
     "shell.execute_reply.started": "2024-12-26T16:15:48.468625Z"
    }
   },
   "outputs": [],
   "source": [
    "# Example usage\n",
    "article=\"\"\n",
    "summary = generate_summary(article)\n",
    "print(\"Generated Summary:\", summary)"
   ]
  },
  {
   "cell_type": "code",
   "execution_count": null,
   "metadata": {},
   "outputs": [],
   "source": []
  }
 ],
 "metadata": {
  "kaggle": {
   "accelerator": "gpu",
   "dataSources": [
    {
     "datasetId": 4884901,
     "sourceId": 8236278,
     "sourceType": "datasetVersion"
    },
    {
     "datasetId": 4887377,
     "sourceId": 8242536,
     "sourceType": "datasetVersion"
    },
    {
     "datasetId": 4887230,
     "sourceId": 8242178,
     "sourceType": "datasetVersion"
    }
   ],
   "dockerImageVersionId": 30699,
   "isGpuEnabled": true,
   "isInternetEnabled": true,
   "language": "python",
   "sourceType": "notebook"
  },
  "kernelspec": {
   "display_name": "Python 3 (ipykernel)",
   "language": "python",
   "name": "python3"
  },
  "language_info": {
   "codemirror_mode": {
    "name": "ipython",
    "version": 3
   },
   "file_extension": ".py",
   "mimetype": "text/x-python",
   "name": "python",
   "nbconvert_exporter": "python",
   "pygments_lexer": "ipython3",
   "version": "3.10.12"
  }
 },
 "nbformat": 4,
 "nbformat_minor": 4
}
