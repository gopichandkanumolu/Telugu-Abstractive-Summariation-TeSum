{
 "cells": [
  {
   "cell_type": "code",
   "execution_count": null,
   "metadata": {
    "_cell_guid": "b1076dfc-b9ad-4769-8c92-a6c4dae69d19",
    "_uuid": "8f2839f25d086af736a60e9eeb907d3b93b6e0e5",
    "execution": {
     "iopub.execute_input": "2024-04-26T18:09:18.635016Z",
     "iopub.status.busy": "2024-04-26T18:09:18.634168Z",
     "iopub.status.idle": "2024-04-26T18:10:11.396702Z",
     "shell.execute_reply": "2024-04-26T18:10:11.395471Z",
     "shell.execute_reply.started": "2024-04-26T18:09:18.634981Z"
    }
   },
   "outputs": [],
   "source": [
    "!pip install git+https://github.com/huggingface/transformers --q"
   ]
  },
  {
   "cell_type": "code",
   "execution_count": null,
   "metadata": {
    "execution": {
     "iopub.execute_input": "2024-04-26T18:10:11.398952Z",
     "iopub.status.busy": "2024-04-26T18:10:11.398615Z",
     "iopub.status.idle": "2024-04-26T18:10:38.985152Z",
     "shell.execute_reply": "2024-04-26T18:10:38.984034Z",
     "shell.execute_reply.started": "2024-04-26T18:10:11.398924Z"
    }
   },
   "outputs": [],
   "source": [
    "!pip install -r \"/kaggle/input/huggingfacetransformers/transformers/examples/pytorch/summarization/requirements.txt\" --q"
   ]
  },
  {
   "cell_type": "code",
   "execution_count": null,
   "metadata": {
    "execution": {
     "iopub.execute_input": "2024-04-26T18:10:38.986906Z",
     "iopub.status.busy": "2024-04-26T18:10:38.986582Z",
     "iopub.status.idle": "2024-04-26T18:10:38.991718Z",
     "shell.execute_reply": "2024-04-26T18:10:38.990589Z",
     "shell.execute_reply.started": "2024-04-26T18:10:38.986876Z"
    }
   },
   "outputs": [],
   "source": [
    "import os\n",
    "os.environ[\"WANDB_DISABLED\"] = \"true\""
   ]
  },
  {
   "cell_type": "markdown",
   "metadata": {},
   "source": [
    "## Data"
   ]
  },
  {
   "cell_type": "code",
   "execution_count": null,
   "metadata": {
    "execution": {
     "iopub.execute_input": "2024-04-26T18:10:38.993824Z",
     "iopub.status.busy": "2024-04-26T18:10:38.993548Z",
     "iopub.status.idle": "2024-04-26T18:10:40.756644Z",
     "shell.execute_reply": "2024-04-26T18:10:40.755734Z",
     "shell.execute_reply.started": "2024-04-26T18:10:38.993801Z"
    }
   },
   "outputs": [],
   "source": [
    "import pandas as pd\n",
    "train_df=pd.read_csv('/kaggle/input/tesum-dataset/TeSum_train_data.csv')\n",
    "train_df.head(1)"
   ]
  },
  {
   "cell_type": "markdown",
   "metadata": {},
   "source": [
    "## Fine-tuning"
   ]
  },
  {
   "cell_type": "code",
   "execution_count": null,
   "metadata": {
    "execution": {
     "iopub.execute_input": "2024-04-26T18:43:39.372749Z",
     "iopub.status.busy": "2024-04-26T18:43:39.372335Z",
     "iopub.status.idle": "2024-04-26T18:43:39.378207Z",
     "shell.execute_reply": "2024-04-26T18:43:39.377228Z",
     "shell.execute_reply.started": "2024-04-26T18:43:39.372717Z"
    }
   },
   "outputs": [],
   "source": [
    "!python '/kaggle/input/huggingfacetransformers/transformers/examples/pytorch/summarization/run_summarization_indicbart.py' \\\n",
    "    --model_name_or_path ai4bharat/IndicBART \\\n",
    "    --do_train True\\\n",
    "    --do_eval True\\\n",
    "    --do_predict True\\\n",
    "    --train_file '/kaggle/input/tesum-dataset/TeSum_train_data.csv' \\\n",
    "    --validation_file '/kaggle/input/tesum-dataset/TeSum_dev_data.csv' \\\n",
    "    --test_file  '/kaggle/input/tesum-dataset/TeSum_test_data.csv' \\\n",
    "    --num_train_epochs 10 \\\n",
    "    --logging_strategy \"epoch\" \\\n",
    "    --save_strategy \"epoch\" \\\n",
    "    --evaluation_strategy \"epoch\" \\\n",
    "    --source_prefix \"summarize: \" \\\n",
    "    --text_column \"cleaned_text\" \\\n",
    "    --summary_column \"summary\" \\\n",
    "    --save_total_limit 1 \\\n",
    "    --load_best_model_at_end True \\\n",
    "    --save_safetensors False \\\n",
    "    --output_dir \"./model_checkpoints\" \\\n",
    "    --overwrite_output_dir True\\\n",
    "    --per_device_train_batch_size=6 \\\n",
    "    --per_device_eval_batch_size=6 \\\n",
    "    --max_source_length 512 \\\n",
    "    --max_target_length 256 \\\n",
    "    --val_max_target_length 256 \\\n",
    "    --num_beams 4 \\\n",
    "    --predict_with_generate | tee logs.txt"
   ]
  },
  {
   "cell_type": "code",
   "execution_count": null,
   "metadata": {
    "execution": {
     "iopub.execute_input": "2024-04-26T12:34:00.997225Z",
     "iopub.status.busy": "2024-04-26T12:34:00.996385Z",
     "iopub.status.idle": "2024-04-26T12:34:01.001199Z",
     "shell.execute_reply": "2024-04-26T12:34:01.000166Z",
     "shell.execute_reply.started": "2024-04-26T12:34:00.997189Z"
    }
   },
   "outputs": [],
   "source": [
    "#     --max_train_samples 10 \\\n",
    "#     --max_eval_samples 10 \\\n",
    "#     --max_predict_samples 10 \\"
   ]
  },
  {
   "cell_type": "markdown",
   "metadata": {},
   "source": [
    "## Testing"
   ]
  },
  {
   "cell_type": "code",
   "execution_count": 13,
   "metadata": {
    "execution": {
     "iopub.execute_input": "2024-12-26T16:01:54.685049Z",
     "iopub.status.busy": "2024-12-26T16:01:54.684671Z",
     "iopub.status.idle": "2024-12-26T16:01:55.542477Z",
     "shell.execute_reply": "2024-12-26T16:01:55.541339Z",
     "shell.execute_reply.started": "2024-12-26T16:01:54.685024Z"
    }
   },
   "outputs": [
    {
     "name": "stderr",
     "output_type": "stream",
     "text": [
      "Special tokens have been added in the vocabulary, make sure the associated word embeddings are fine-tuned or trained.\n"
     ]
    }
   ],
   "source": [
    "from transformers import MBartForConditionalGeneration, AutoModelForSeq2SeqLM\n",
    "from transformers import AlbertTokenizer, AutoTokenizer\n",
    "\n",
    "# Load the trained model and tokenizer\n",
    "model_path = \"/kaggle/input/tesum-indicbart-checkpoints/model_checkpoints/checkpoint-27160\"\n",
    "tokenizer = AlbertTokenizer.from_pretrained(model_path)\n",
    "model = MBartForConditionalGeneration.from_pretrained(model_path)\n",
    "\n",
    "# Define a function for summarization\n",
    "def generate_summary(article_text, max_length=150):\n",
    "    inputs = tokenizer.encode(article_text+' </s> <2te>', return_tensors=\"pt\", max_length=512, truncation=True)\n",
    "    summary_ids = model.generate(inputs, max_length=max_length, num_beams=4, early_stopping=True)\n",
    "    summary = tokenizer.decode(summary_ids[0], skip_special_tokens=True)\n",
    "    return summary"
   ]
  },
  {
   "cell_type": "code",
   "execution_count": 15,
   "metadata": {
    "execution": {
     "iopub.execute_input": "2024-12-26T16:01:59.086132Z",
     "iopub.status.busy": "2024-12-26T16:01:59.085493Z",
     "iopub.status.idle": "2024-12-26T16:01:59.089577Z",
     "shell.execute_reply": "2024-12-26T16:01:59.088685Z",
     "shell.execute_reply.started": "2024-12-26T16:01:59.086104Z"
    }
   },
   "outputs": [],
   "source": [
    "# # Example usage\n",
    "# article = \"\"\n",
    "# summary = generate_summary(article)\n",
    "# print(\"Generated Summary:\", summary)"
   ]
  },
  {
   "cell_type": "code",
   "execution_count": null,
   "metadata": {},
   "outputs": [],
   "source": []
  }
 ],
 "metadata": {
  "kaggle": {
   "accelerator": "gpu",
   "dataSources": [
    {
     "datasetId": 4884901,
     "sourceId": 8236278,
     "sourceType": "datasetVersion"
    },
    {
     "datasetId": 4887377,
     "sourceId": 8242536,
     "sourceType": "datasetVersion"
    },
    {
     "datasetId": 4889381,
     "sourceId": 8242183,
     "sourceType": "datasetVersion"
    }
   ],
   "dockerImageVersionId": 30699,
   "isGpuEnabled": true,
   "isInternetEnabled": true,
   "language": "python",
   "sourceType": "notebook"
  },
  "kernelspec": {
   "display_name": "Python 3 (ipykernel)",
   "language": "python",
   "name": "python3"
  },
  "language_info": {
   "codemirror_mode": {
    "name": "ipython",
    "version": 3
   },
   "file_extension": ".py",
   "mimetype": "text/x-python",
   "name": "python",
   "nbconvert_exporter": "python",
   "pygments_lexer": "ipython3",
   "version": "3.10.12"
  }
 },
 "nbformat": 4,
 "nbformat_minor": 4
}
